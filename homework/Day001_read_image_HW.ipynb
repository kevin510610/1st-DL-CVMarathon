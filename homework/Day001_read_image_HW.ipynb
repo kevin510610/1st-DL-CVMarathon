{
 "cells": [
  {
   "cell_type": "markdown",
   "metadata": {},
   "source": [
    "# 作業\n",
    "\n",
    "思考一下我們前面有提到圖片是矩陣，但維度可能會不一樣\n",
    "例如灰階圖只有兩個維度，RGB 彩圖則有 3 個維度\n",
    "\n",
    "假如今天我們把 RGB 3 個維度拆開來看會有甚麼不同的效果呢？"
   ]
  },
  {
   "cell_type": "code",
   "execution_count": null,
   "metadata": {
    "scrolled": true
   },
   "outputs": [
    {
     "name": "stdout",
     "output_type": "stream",
     "text": [
      "<class 'numpy.ndarray'>\n",
      "(512, 512, 3)\n"
     ]
    }
   ],
   "source": [
    "import cv2\n",
    "import numpy as np\n",
    "\n",
    "img_path = 'data/lena.png'\n",
    "\n",
    "img = cv2.imread(img_path, cv2.IMREAD_COLOR)\n",
    "print(type(img))\n",
    "print(img.shape)\n",
    "(B, G, R) = cv2.split(img)\n",
    "\n",
    "while True:\n",
    "    cv2.imshow('B', img[:,:,0])\n",
    "    cv2.imshow('G', img[:,:,1])\n",
    "    cv2.imshow('R', img[:,:,2])\n",
    "\n",
    "    cv2.imshow('b', B)\n",
    "    cv2.imshow('g', G)\n",
    "    cv2.imshow('r', R)\n",
    "    \n",
    "    k = cv2.waitKey(0)\n",
    "    if k == 27:         \n",
    "        cv2.destroyAllWindows()\n",
    "        break\n",
    "    elif k == ord('k'): \n",
    "        #cv2.imwrite('messigray.png',img)\n",
    "        cv2.destroyAllWindows()\n",
    "        break"
   ]
  }
 ],
 "metadata": {
  "kernelspec": {
   "display_name": "Python 3",
   "language": "python",
   "name": "python3"
  },
  "language_info": {
   "codemirror_mode": {
    "name": "ipython",
    "version": 3
   },
   "file_extension": ".py",
   "mimetype": "text/x-python",
   "name": "python",
   "nbconvert_exporter": "python",
   "pygments_lexer": "ipython3",
   "version": "3.7.4"
  }
 },
 "nbformat": 4,
 "nbformat_minor": 2
}
