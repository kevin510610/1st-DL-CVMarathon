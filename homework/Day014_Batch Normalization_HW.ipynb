{
 "cells": [
  {
   "cell_type": "markdown",
   "metadata": {},
   "source": [
    "## 『本次練習內容』\n",
    "#### 搭建 Conv2D-BN-Activation層\n"
   ]
  },
  {
   "cell_type": "markdown",
   "metadata": {},
   "source": [
    "## 『本次練習目的』\n",
    "  #### 了解如何搭建CNN基礎架構，Conv2D-BN-Activation"
   ]
  },
  {
   "cell_type": "code",
   "execution_count": 1,
   "metadata": {},
   "outputs": [],
   "source": [
    "from tensorflow.keras.models import Sequential  #用來啟動 NN\n",
    "from tensorflow.keras.layers import Conv2D  # Convolution Operation\n",
    "from tensorflow.keras.layers import MaxPooling2D # Pooling\n",
    "from tensorflow.keras.layers import Flatten\n",
    "from tensorflow.keras.layers import Dense # Fully Connected Networks\n",
    "from tensorflow.keras.layers import BatchNormalization\n",
    "from tensorflow.keras.layers import Activation"
   ]
  },
  {
   "cell_type": "markdown",
   "metadata": {},
   "source": [
    "## 依照指示建立模型"
   ]
  },
  {
   "cell_type": "code",
   "execution_count": 2,
   "metadata": {},
   "outputs": [
    {
     "output_type": "stream",
     "name": "stdout",
     "text": [
      "Model: \"sequential\"\n_________________________________________________________________\nLayer (type)                 Output Shape              Param #   \n=================================================================\nconv2d (Conv2D)              (None, 32, 32, 32)        896       \n_________________________________________________________________\nbatch_normalization (BatchNo (None, 32, 32, 32)        128       \n_________________________________________________________________\nactivation (Activation)      (None, 32, 32, 32)        0         \n_________________________________________________________________\nconv2d_1 (Conv2D)            (None, 32, 32, 32)        9248      \n_________________________________________________________________\nbatch_normalization_1 (Batch (None, 32, 32, 32)        128       \n_________________________________________________________________\nactivation_1 (Activation)    (None, 32, 32, 32)        0         \n=================================================================\nTotal params: 10,400\nTrainable params: 10,272\nNon-trainable params: 128\n_________________________________________________________________\n"
     ]
    }
   ],
   "source": [
    "input_shape = (32, 32, 3)\n",
    "\n",
    "model = Sequential()\n",
    "\n",
    "##  Conv2D-BN-Activation('sigmoid') \n",
    "\n",
    "#BatchNormalization主要參數：\n",
    "#momentum: Momentum for the moving mean and the moving variance.\n",
    "#epsilon: Small float added to variance to avoid dividing by zero.\n",
    "\n",
    "model.add(Conv2D(32,(3,3),padding='same',input_shape=input_shape))\n",
    "model.add(BatchNormalization(momentum=0.99,epsilon=0.001)) \n",
    "model.add(Activation('sigmoid'))\n",
    "\n",
    "\n",
    "##、 Conv2D-BN-Activation('relu')\n",
    "model.add(Conv2D(32,(3,3),padding='same'))\n",
    "model.add(BatchNormalization(momentum=0.99,epsilon=0.001)) \n",
    "model.add(Activation('relu'))\n",
    "\n",
    "\n",
    "model.summary()"
   ]
  },
  {
   "cell_type": "code",
   "execution_count": null,
   "metadata": {},
   "outputs": [],
   "source": []
  }
 ],
 "metadata": {
  "kernelspec": {
   "name": "python388jvsc74a57bd01be61a1583a2cb2b13e440a2aaa1981b12c2212d6adb327f2a8e80ed33dd9191",
   "display_name": "Python 3.8.8 64-bit ('datasci': conda)"
  },
  "language_info": {
   "codemirror_mode": {
    "name": "ipython",
    "version": 3
   },
   "file_extension": ".py",
   "mimetype": "text/x-python",
   "name": "python",
   "nbconvert_exporter": "python",
   "pygments_lexer": "ipython3",
   "version": "3.8.8"
  }
 },
 "nbformat": 4,
 "nbformat_minor": 2
}